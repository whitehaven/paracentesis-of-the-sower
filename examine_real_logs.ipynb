{
 "cells": [
  {
   "cell_type": "code",
   "execution_count": null,
   "id": "6c255e71-c17a-482f-8b26-b6d098f17e2f",
   "metadata": {},
   "outputs": [],
   "source": [
    "from collections import namedtuple\n",
    "\n",
    "import matplotlib.pyplot as plt\n",
    "import numpy as np\n",
    "import pandas as pd\n",
    "from icecream import ic"
   ]
  },
  {
   "cell_type": "code",
   "execution_count": null,
   "id": "7d858e74-336c-4f01-86d2-c1457cd7b7ce",
   "metadata": {},
   "outputs": [],
   "source": [
    "log = pd.read_csv( 'real_logs.csv')"
   ]
  },
  {
   "cell_type": "code",
   "execution_count": null,
   "id": "d73e6919-5fc9-44b1-aeba-53d8ad5b27f6",
   "metadata": {},
   "outputs": [],
   "source": [
    "# ordering is about what you'd expect\n",
    "log.groupby(\"Resident\").Procedure.count().sort_values(ascending=False)"
   ]
  },
  {
   "cell_type": "code",
   "execution_count": null,
   "id": "0a611504-479a-424c-870d-3d6f6d57b6a4",
   "metadata": {},
   "outputs": [],
   "source": [
    "# by histogram - seems to follow lognormal distribution\n",
    "# TODO: no zeros represented here! People who did none just don't appear!\n",
    "log.groupby(\"Resident\").Procedure.count().sort_values(ascending=False).hist(bins=14)"
   ]
  },
  {
   "cell_type": "code",
   "execution_count": null,
   "id": "ee1706c5-3dc8-4546-862c-9065a2708ba6",
   "metadata": {},
   "outputs": [],
   "source": [
    "# attendings a little different than expected - I wonder how many Dr. Kelleys got recorded as ICU group though.\n",
    "log.groupby(\"Supervisor\").Procedure.count().sort_values(ascending=False)"
   ]
  },
  {
   "cell_type": "code",
   "execution_count": null,
   "id": "cf86bc98-db42-4ef4-8632-59e0448a5834",
   "metadata": {
    "editable": true,
    "slideshow": {
     "slide_type": ""
    },
    "tags": []
   },
   "outputs": [],
   "source": []
  }
 ],
 "metadata": {
  "kernelspec": {
   "display_name": "Python 3 (ipykernel)",
   "language": "python",
   "name": "python3"
  },
  "language_info": {
   "codemirror_mode": {
    "name": "ipython",
    "version": 3
   },
   "file_extension": ".py",
   "mimetype": "text/x-python",
   "name": "python",
   "nbconvert_exporter": "python",
   "pygments_lexer": "ipython3",
   "version": "3.12.4"
  }
 },
 "nbformat": 4,
 "nbformat_minor": 5
}
