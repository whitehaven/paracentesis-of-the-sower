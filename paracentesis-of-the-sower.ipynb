{
 "cells": [
  {
   "cell_type": "markdown",
   "id": "56679c2d-1a52-44d1-9237-f59882de3ee4",
   "metadata": {},
   "source": [
    "# sim plan"
   ]
  },
  {
   "cell_type": "markdown",
   "id": "a781c2bc-6fab-49b6-bf50-dfd686419296",
   "metadata": {},
   "source": [
    "* for every round\n",
    "  * procedure?\n",
    "        * if yes: \n",
    "            * offer to random resident (and choose intern who would have gotten it either way for log)\n",
    "                * if accepts: increment and log to both\n",
    "                * else: log miss only\n",
    "        * else\n",
    "            * log missed procedure0\n",
    "    * "
   ]
  },
  {
   "cell_type": "markdown",
   "id": "fc43f498-a206-4950-9674-85f94d00cc9f",
   "metadata": {},
   "source": [
    "# first attempt with no probability:"
   ]
  },
  {
   "cell_type": "code",
   "execution_count": 149,
   "id": "bad83fa4-fee5-48ff-81c8-83081b1e5f7f",
   "metadata": {
    "editable": true,
    "slideshow": {
     "slide_type": ""
    },
    "tags": []
   },
   "outputs": [],
   "source": [
    "from collections import namedtuple\n",
    "\n",
    "import matplotlib.pyplot as plt\n",
    "import numpy as np\n",
    "import pandas as pd\n",
    "from icecream import ic\n",
    "from statsmodels.distributions.discrete import poisson, zipoisson"
   ]
  },
  {
   "cell_type": "code",
   "execution_count": 108,
   "id": "8641eaa6-1ea1-4d33-918c-70482f9cab39",
   "metadata": {},
   "outputs": [],
   "source": [
    "# custom datatype for procedure offer logs\n",
    "Procedure_Outcome = namedtuple(\n",
    "    \"Procedure_Outcome\",\n",
    "    [\n",
    "        \"day\",\n",
    "        \"senior\",\n",
    "        \"senior_prior_procedures\",\n",
    "        \"intern\",\n",
    "        \"intern_prior_procedures\",\n",
    "        \"nth_procedure_opportunity_of_the_day\",\n",
    "        \"performed\",\n",
    "    ],\n",
    ")"
   ]
  },
  {
   "cell_type": "code",
   "execution_count": 109,
   "id": "0bbb35f3-bfe0-4e0c-92ff-80f29cbc7736",
   "metadata": {},
   "outputs": [
    {
     "data": {
      "text/html": [
       "<div>\n",
       "<style scoped>\n",
       "    .dataframe tbody tr th:only-of-type {\n",
       "        vertical-align: middle;\n",
       "    }\n",
       "\n",
       "    .dataframe tbody tr th {\n",
       "        vertical-align: top;\n",
       "    }\n",
       "\n",
       "    .dataframe thead th {\n",
       "        text-align: right;\n",
       "    }\n",
       "</style>\n",
       "<table border=\"1\" class=\"dataframe\">\n",
       "  <thead>\n",
       "    <tr style=\"text-align: right;\">\n",
       "      <th></th>\n",
       "      <th>name</th>\n",
       "      <th>training_level</th>\n",
       "      <th>paracentesis_completed</th>\n",
       "    </tr>\n",
       "  </thead>\n",
       "  <tbody>\n",
       "    <tr>\n",
       "      <th>0</th>\n",
       "      <td>R2 1</td>\n",
       "      <td>senior</td>\n",
       "      <td>0</td>\n",
       "    </tr>\n",
       "    <tr>\n",
       "      <th>1</th>\n",
       "      <td>R2 2</td>\n",
       "      <td>senior</td>\n",
       "      <td>0</td>\n",
       "    </tr>\n",
       "    <tr>\n",
       "      <th>2</th>\n",
       "      <td>R2 3</td>\n",
       "      <td>senior</td>\n",
       "      <td>0</td>\n",
       "    </tr>\n",
       "    <tr>\n",
       "      <th>3</th>\n",
       "      <td>R2 4</td>\n",
       "      <td>senior</td>\n",
       "      <td>0</td>\n",
       "    </tr>\n",
       "    <tr>\n",
       "      <th>4</th>\n",
       "      <td>R2 5</td>\n",
       "      <td>senior</td>\n",
       "      <td>0</td>\n",
       "    </tr>\n",
       "    <tr>\n",
       "      <th>5</th>\n",
       "      <td>R2 6</td>\n",
       "      <td>senior</td>\n",
       "      <td>0</td>\n",
       "    </tr>\n",
       "    <tr>\n",
       "      <th>6</th>\n",
       "      <td>R2 7</td>\n",
       "      <td>senior</td>\n",
       "      <td>0</td>\n",
       "    </tr>\n",
       "    <tr>\n",
       "      <th>7</th>\n",
       "      <td>R2 8</td>\n",
       "      <td>senior</td>\n",
       "      <td>0</td>\n",
       "    </tr>\n",
       "    <tr>\n",
       "      <th>8</th>\n",
       "      <td>R2 9</td>\n",
       "      <td>senior</td>\n",
       "      <td>0</td>\n",
       "    </tr>\n",
       "    <tr>\n",
       "      <th>9</th>\n",
       "      <td>R2 10</td>\n",
       "      <td>senior</td>\n",
       "      <td>0</td>\n",
       "    </tr>\n",
       "    <tr>\n",
       "      <th>10</th>\n",
       "      <td>R3 1</td>\n",
       "      <td>senior</td>\n",
       "      <td>5</td>\n",
       "    </tr>\n",
       "    <tr>\n",
       "      <th>11</th>\n",
       "      <td>R3 2</td>\n",
       "      <td>senior</td>\n",
       "      <td>2</td>\n",
       "    </tr>\n",
       "    <tr>\n",
       "      <th>12</th>\n",
       "      <td>R3 3</td>\n",
       "      <td>senior</td>\n",
       "      <td>3</td>\n",
       "    </tr>\n",
       "    <tr>\n",
       "      <th>13</th>\n",
       "      <td>R3 4</td>\n",
       "      <td>senior</td>\n",
       "      <td>1</td>\n",
       "    </tr>\n",
       "    <tr>\n",
       "      <th>14</th>\n",
       "      <td>R3 5</td>\n",
       "      <td>senior</td>\n",
       "      <td>0</td>\n",
       "    </tr>\n",
       "    <tr>\n",
       "      <th>15</th>\n",
       "      <td>R3 6</td>\n",
       "      <td>senior</td>\n",
       "      <td>0</td>\n",
       "    </tr>\n",
       "    <tr>\n",
       "      <th>16</th>\n",
       "      <td>R3 7</td>\n",
       "      <td>senior</td>\n",
       "      <td>0</td>\n",
       "    </tr>\n",
       "    <tr>\n",
       "      <th>17</th>\n",
       "      <td>R3 8</td>\n",
       "      <td>senior</td>\n",
       "      <td>0</td>\n",
       "    </tr>\n",
       "    <tr>\n",
       "      <th>18</th>\n",
       "      <td>R3 9</td>\n",
       "      <td>senior</td>\n",
       "      <td>0</td>\n",
       "    </tr>\n",
       "    <tr>\n",
       "      <th>19</th>\n",
       "      <td>R3 10</td>\n",
       "      <td>senior</td>\n",
       "      <td>0</td>\n",
       "    </tr>\n",
       "    <tr>\n",
       "      <th>20</th>\n",
       "      <td>R1 1</td>\n",
       "      <td>intern</td>\n",
       "      <td>0</td>\n",
       "    </tr>\n",
       "    <tr>\n",
       "      <th>21</th>\n",
       "      <td>R1 2</td>\n",
       "      <td>intern</td>\n",
       "      <td>1</td>\n",
       "    </tr>\n",
       "    <tr>\n",
       "      <th>22</th>\n",
       "      <td>R1 3</td>\n",
       "      <td>intern</td>\n",
       "      <td>0</td>\n",
       "    </tr>\n",
       "    <tr>\n",
       "      <th>23</th>\n",
       "      <td>R1 4</td>\n",
       "      <td>intern</td>\n",
       "      <td>0</td>\n",
       "    </tr>\n",
       "    <tr>\n",
       "      <th>24</th>\n",
       "      <td>R1 5</td>\n",
       "      <td>intern</td>\n",
       "      <td>0</td>\n",
       "    </tr>\n",
       "    <tr>\n",
       "      <th>25</th>\n",
       "      <td>R1 6</td>\n",
       "      <td>intern</td>\n",
       "      <td>0</td>\n",
       "    </tr>\n",
       "    <tr>\n",
       "      <th>26</th>\n",
       "      <td>R1 7</td>\n",
       "      <td>intern</td>\n",
       "      <td>0</td>\n",
       "    </tr>\n",
       "    <tr>\n",
       "      <th>27</th>\n",
       "      <td>R1 8</td>\n",
       "      <td>intern</td>\n",
       "      <td>0</td>\n",
       "    </tr>\n",
       "    <tr>\n",
       "      <th>28</th>\n",
       "      <td>R1 9</td>\n",
       "      <td>intern</td>\n",
       "      <td>0</td>\n",
       "    </tr>\n",
       "    <tr>\n",
       "      <th>29</th>\n",
       "      <td>R1 10</td>\n",
       "      <td>intern</td>\n",
       "      <td>0</td>\n",
       "    </tr>\n",
       "  </tbody>\n",
       "</table>\n",
       "</div>"
      ],
      "text/plain": [
       "     name training_level  paracentesis_completed\n",
       "0    R2 1         senior                       0\n",
       "1    R2 2         senior                       0\n",
       "2    R2 3         senior                       0\n",
       "3    R2 4         senior                       0\n",
       "4    R2 5         senior                       0\n",
       "5    R2 6         senior                       0\n",
       "6    R2 7         senior                       0\n",
       "7    R2 8         senior                       0\n",
       "8    R2 9         senior                       0\n",
       "9   R2 10         senior                       0\n",
       "10   R3 1         senior                       5\n",
       "11   R3 2         senior                       2\n",
       "12   R3 3         senior                       3\n",
       "13   R3 4         senior                       1\n",
       "14   R3 5         senior                       0\n",
       "15   R3 6         senior                       0\n",
       "16   R3 7         senior                       0\n",
       "17   R3 8         senior                       0\n",
       "18   R3 9         senior                       0\n",
       "19  R3 10         senior                       0\n",
       "20   R1 1         intern                       0\n",
       "21   R1 2         intern                       1\n",
       "22   R1 3         intern                       0\n",
       "23   R1 4         intern                       0\n",
       "24   R1 5         intern                       0\n",
       "25   R1 6         intern                       0\n",
       "26   R1 7         intern                       0\n",
       "27   R1 8         intern                       0\n",
       "28   R1 9         intern                       0\n",
       "29  R1 10         intern                       0"
      ]
     },
     "execution_count": 109,
     "metadata": {},
     "output_type": "execute_result"
    }
   ],
   "source": [
    "residents = pd.read_excel(\"residents.xlsx\")\n",
    "residents"
   ]
  },
  {
   "cell_type": "code",
   "execution_count": 110,
   "id": "a7036ab9-fe8f-42ba-acb8-650165bec590",
   "metadata": {},
   "outputs": [],
   "source": [
    "seniors = residents.training_level == \"senior\"\n",
    "interns = residents.training_level == \"intern\""
   ]
  },
  {
   "cell_type": "code",
   "execution_count": 161,
   "id": "e138df0f-76c5-403f-b94d-05f82b767f19",
   "metadata": {},
   "outputs": [
    {
     "data": {
      "text/plain": [
       "<BarContainer object of 10 artists>"
      ]
     },
     "execution_count": 161,
     "metadata": {},
     "output_type": "execute_result"
    },
    {
     "data": {
      "image/png": "[encoded data removed]",
      "text/plain": [
       "<Figure size 640x480 with 1 Axes>"
      ]
     },
     "metadata": {},
     "output_type": "display_data"
    }
   ],
   "source": [
    "# TODO: integrate Poisson for daily run\n",
    "poisson_lambda = 1/14\n",
    "p = poisson(poisson_lambda)\n",
    "plt.bar(np.arange(0, 10), p.pmf(np.arange(0, 10)))"
   ]
  },
  {
   "cell_type": "markdown",
   "id": "5c371dbb-4335-4c7e-8e8d-fcded6cd7aa9",
   "metadata": {},
   "source": [
    "for example, a month's worth with $\\lambda$ = 1/14, which is a Q2wk average divided out"
   ]
  },
  {
   "cell_type": "code",
   "execution_count": null,
   "id": "091bbf4f-ee0e-4fff-ae35-90a2e75957f0",
   "metadata": {},
   "outputs": [
    {
     "data": {
      "text/plain": [
       "array([0, 0, 0, 0, 0, 1, 0, 0, 0, 0, 0, 0, 0, 0, 0, 1, 0, 0, 0, 0, 0, 0,\n",
       "       0, 0, 0, 0, 0, 0, 0, 1, 0, 0, 0, 0, 0, 0, 0, 0, 0, 0, 0, 0, 0, 0,\n",
       "       0, 0, 0, 0, 0, 0, 0, 0, 0, 0, 0, 0, 0, 0, 0, 0, 0, 0, 0, 0, 0, 0,\n",
       "       0, 0, 0, 0, 0, 0, 1, 0, 0, 0, 0, 0, 0, 0, 0, 0, 1, 0, 0, 0, 0, 0,\n",
       "       0, 0, 0, 0, 0, 0, 0, 0, 0, 0, 0, 0, 0, 0, 0, 0, 0, 0, 0, 0, 0, 0,\n",
       "       0, 0, 0, 0, 0, 0, 2, 0, 0, 0, 0, 0, 0, 0, 0, 0, 0, 0, 1, 0, 0, 0,\n",
       "       0, 0, 0, 1, 0, 1, 0, 0, 0, 0, 0, 0, 0, 0, 0, 1, 0, 0, 0, 0, 0, 0,\n",
       "       0, 0, 0, 0, 0, 0, 0, 0, 0, 0, 0, 0, 0, 0, 0, 0, 0, 0, 0, 0, 0, 0,\n",
       "       0, 0, 0, 0, 0, 0, 1, 1, 0, 0, 0, 0, 0, 1, 0, 0, 0, 0, 1, 0, 0, 0,\n",
       "       0, 0, 0, 0, 0, 0, 0, 0, 0, 1, 0, 0, 0, 1, 0, 0, 0, 0, 0, 0, 0, 0,\n",
       "       0, 0, 0, 0, 1, 0, 0, 0, 0, 0, 0, 0, 0, 0, 0, 0, 0, 0, 0, 0, 0, 0,\n",
       "       0, 0, 0, 0, 0, 0, 0, 0, 0, 0, 0, 1, 1, 0, 0, 0, 0, 0, 0, 0, 0, 0,\n",
       "       1, 1, 0, 0, 0, 0, 0, 0, 0, 0, 1, 0, 0, 0, 0, 0, 0, 0, 0, 0, 0, 0,\n",
       "       0, 0, 0, 0, 1, 0, 0, 0, 0, 0, 0, 0, 0, 0, 0, 0, 0, 0, 0, 0, 1, 0,\n",
       "       0, 0, 0, 0, 0, 0, 0, 0, 0, 0, 0, 0, 0, 0, 0, 0, 1, 0, 0, 0, 0, 0,\n",
       "       0, 0, 0, 0, 0, 0, 0, 0, 0, 0, 0, 0, 0, 0, 0, 0, 0, 1, 0, 0, 0, 0,\n",
       "       0, 0, 0, 1, 0, 0, 0, 0, 0, 1, 0, 0, 0])"
      ]
     },
     "execution_count": 167,
     "metadata": {},
     "output_type": "execute_result"
    }
   ],
   "source": [
    "random_year = p.rvs(365)\n",
    "random_year"
   ]
  },
  {
   "cell_type": "code",
   "execution_count": 172,
   "id": "bf75f26b-a15d-4df5-8ad1-2085e0cd1517",
   "metadata": {},
   "outputs": [
    {
     "data": {
      "text/plain": [
       "np.float64(0.00802348336594913)"
      ]
     },
     "execution_count": 172,
     "metadata": {},
     "output_type": "execute_result"
    }
   ],
   "source": [
    "random_year.sum() / 365 - poisson_lambda"
   ]
  },
  {
   "cell_type": "markdown",
   "id": "5a42f05c-0875-42fa-b458-f5cd3db3e2a0",
   "metadata": {},
   "source": [
    "pretty close, and gets the randomness right"
   ]
  },
  {
   "cell_type": "code",
   "execution_count": null,
   "id": "ae030154-c75e-4e7b-8538-c537da29c0b6",
   "metadata": {},
   "outputs": [],
   "source": []
  },
  {
   "cell_type": "code",
   "execution_count": null,
   "id": "f2c5f403-d71d-482d-8b67-b1fd0458a255",
   "metadata": {},
   "outputs": [],
   "source": [
    "days = 30\n",
    "signoff_threshold = 5\n",
    "signed_off_avidity = 0.5\n",
    "not_signed_off_avidity = 0.1"
   ]
  },
  {
   "cell_type": "code",
   "execution_count": null,
   "id": "42a5a4e3-4150-4e2f-9b70-543aaae287a8",
   "metadata": {},
   "outputs": [],
   "source": [
    "outcome_log = list()\n",
    "\n",
    "\n",
    "for day in range(days):\n",
    "    # TODO: determine number offered (poisson)\n",
    "    procedure_opportunity_today = 2  # artificial for testing\n",
    "    for procedure_opportunity in range(procedure_opportunity_today):\n",
    "\n",
    "        selected_senior = residents[seniors].sample().name.values[0]\n",
    "        selected_intern = residents[interns].sample().name.values[0]\n",
    "\n",
    "        if (\n",
    "            residents.loc[\n",
    "                residents.name.isin([selected_senior, selected_intern]),\n",
    "                \"paracentesis_completed\",\n",
    "            ]\n",
    "            >= signoff_threshold\n",
    "        ).any():\n",
    "            avidity = signed_off_avidity\n",
    "        else:\n",
    "            avidity = not_signed_off_avidity\n",
    "\n",
    "        performed = None\n",
    "\n",
    "        if np.random.rand() <= avidity:\n",
    "            senior_prior_procedures = residents.loc[\n",
    "                residents.name == selected_senior, \"paracentesis_completed\"\n",
    "            ].values[0]\n",
    "\n",
    "            residents.loc[\n",
    "                residents.name == selected_senior, \"paracentesis_completed\"\n",
    "            ] += 1\n",
    "\n",
    "            intern_prior_procedures = residents.loc[\n",
    "                residents.name == selected_intern, \"paracentesis_completed\"\n",
    "            ].values[0]\n",
    "\n",
    "            residents.loc[\n",
    "                residents.name == selected_intern, \"paracentesis_completed\"\n",
    "            ] += 1\n",
    "            performed = True\n",
    "        else:\n",
    "            performed = False\n",
    "\n",
    "        today_outcome = Procedure_Outcome(\n",
    "            day=day,\n",
    "            senior=selected_senior,\n",
    "            senior_prior_procedures=senior_prior_procedures,\n",
    "            intern=selected_intern,\n",
    "            intern_prior_procedures=intern_prior_procedures,\n",
    "            nth_procedure_opportunity_of_the_day=procedure_opportunity,\n",
    "            performed=performed,\n",
    "        )\n",
    "        outcome_log.append(today_outcome)"
   ]
  },
  {
   "cell_type": "code",
   "execution_count": null,
   "id": "f87699ad-6c95-4f87-8260-69db68a1fb6e",
   "metadata": {},
   "outputs": [],
   "source": [
    "outcomes = pd.DataFrame(outcome_log)\n",
    "outcomes"
   ]
  },
  {
   "cell_type": "code",
   "execution_count": null,
   "id": "def1edc6-1f66-40b3-9e45-2836aea18964",
   "metadata": {},
   "outputs": [],
   "source": [
    "outcomes.performed.sum()"
   ]
  },
  {
   "cell_type": "code",
   "execution_count": null,
   "id": "2c4fe6e1-487b-4d34-8ed2-509d191b324b",
   "metadata": {
    "editable": true,
    "slideshow": {
     "slide_type": ""
    },
    "tags": []
   },
   "outputs": [],
   "source": [
    "outcomes.loc[\n",
    "    (outcomes.senior_prior_procedures == (signoff_threshold - 1)) & (outcomes.performed)\n",
    "]"
   ]
  },
  {
   "cell_type": "code",
   "execution_count": null,
   "id": "4fb4473c-a071-44f1-90a5-e3b71754ed58",
   "metadata": {},
   "outputs": [],
   "source": [
    "outcomes.loc[\n",
    "    (outcomes.intern_prior_procedures == (signoff_threshold - 1)) & (outcomes.performed)\n",
    "]"
   ]
  },
  {
   "cell_type": "code",
   "execution_count": null,
   "id": "8db63329-7d0d-4927-8ad3-8bffe22ddf44",
   "metadata": {},
   "outputs": [],
   "source": [
    "outcomes.performed.sum() / len(outcomes)"
   ]
  },
  {
   "cell_type": "code",
   "execution_count": null,
   "id": "ca6f17da-cd41-4c91-b8e8-0264907ab5c0",
   "metadata": {},
   "outputs": [],
   "source": []
  }
 ],
 "metadata": {
  "kernelspec": {
   "display_name": "Python 3 (ipykernel)",
   "language": "python",
   "name": "python3"
  },
  "language_info": {
   "codemirror_mode": {
    "name": "ipython",
    "version": 3
   },
   "file_extension": ".py",
   "mimetype": "text/x-python",
   "name": "python",
   "nbconvert_exporter": "python",
   "pygments_lexer": "ipython3",
   "version": "3.12.4"
  }
 },
 "nbformat": 4,
 "nbformat_minor": 5
}
