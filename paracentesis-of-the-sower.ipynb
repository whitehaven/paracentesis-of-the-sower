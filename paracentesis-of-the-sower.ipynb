{
 "cells": [
  {
   "cell_type": "markdown",
   "id": "c94d89f2",
   "metadata": {},
   "source": [
    "# sim plan"
   ]
  },
  {
   "cell_type": "markdown",
   "id": "feae8ee8",
   "metadata": {},
   "source": [
    "* for every round\n",
    "  * procedure?\n",
    "        * if yes: \n",
    "            * offer to random resident (and choose intern who would have gotten it either way for log)\n",
    "                * if accepts: increment and log to both\n",
    "                * else: log miss only\n",
    "        * else\n",
    "            * log missed procedure0\n",
    "    * "
   ]
  },
  {
   "cell_type": "code",
   "execution_count": null,
   "id": "28df92f5",
   "metadata": {
    "editable": true,
    "slideshow": {
     "slide_type": ""
    },
    "tags": []
   },
   "outputs": [],
   "source": [
    "from collections import namedtuple\n",
    "\n",
    "import matplotlib.pyplot as plt\n",
    "import numpy as np\n",
    "import pandas as pd\n",
    "from icecream import ic\n",
    "from statsmodels.distributions.discrete import poisson"
   ]
  },
  {
   "cell_type": "code",
   "execution_count": null,
   "id": "032cb28d",
   "metadata": {},
   "outputs": [],
   "source": [
    "# custom datatype for procedure offer logs\n",
    "Procedure_Outcome = namedtuple(\n",
    "    \"Procedure_Outcome\",\n",
    "    [\n",
    "        \"bootstrap_run\",\n",
    "        \"day\",\n",
    "        \"senior\",\n",
    "        \"senior_prior_procedures\",\n",
    "        \"intern\",\n",
    "        \"intern_prior_procedures\",\n",
    "        \"nth_procedure_opportunity_of_the_day\",\n",
    "        \"performed\",\n",
    "    ],\n",
    ")"
   ]
  },
  {
   "cell_type": "code",
   "execution_count": null,
   "id": "023bc5da",
   "metadata": {},
   "outputs": [],
   "source": [
    "residents = pd.read_csv(\"residents.csv\")\n",
    "original_resident_data = residents.copy()  # copy for resetting between bootstrap runs\n",
    "residents"
   ]
  },
  {
   "cell_type": "markdown",
   "id": "9d60300c",
   "metadata": {},
   "source": [
    "## demonstration of Poisson distribution to generate random procedure offers"
   ]
  },
  {
   "cell_type": "markdown",
   "id": "5e2413eb",
   "metadata": {},
   "source": [
    "### TODO: generate different starting conditions programatically"
   ]
  },
  {
   "cell_type": "code",
   "execution_count": null,
   "id": "d70b86ce",
   "metadata": {},
   "outputs": [],
   "source": [
    "poisson_lambda = 1 / 7\n",
    "p = poisson(poisson_lambda)\n",
    "plt.bar(np.arange(0, 10), p.pmf(np.arange(0, 10)))"
   ]
  },
  {
   "cell_type": "markdown",
   "id": "b2d6be45",
   "metadata": {},
   "source": [
    "for example, a month's worth with $\\lambda$ = 1/14, which is a Q2wk average divided out"
   ]
  },
  {
   "cell_type": "code",
   "execution_count": null,
   "id": "dfbe3a79",
   "metadata": {},
   "outputs": [],
   "source": [
    "random_year = p.rvs(365)\n",
    "random_year"
   ]
  },
  {
   "cell_type": "code",
   "execution_count": null,
   "id": "05e16103",
   "metadata": {},
   "outputs": [],
   "source": [
    "random_year.sum() / 365 - poisson_lambda"
   ]
  },
  {
   "cell_type": "markdown",
   "id": "4308673f",
   "metadata": {},
   "source": [
    "pretty close, and gets the randomness right"
   ]
  },
  {
   "cell_type": "markdown",
   "id": "7ff78b85",
   "metadata": {},
   "source": [
    "### TODO: bootstrapping"
   ]
  },
  {
   "cell_type": "code",
   "execution_count": null,
   "id": "a2b8da31",
   "metadata": {},
   "outputs": [],
   "source": [
    "days = 365\n",
    "signoff_threshold = 5\n",
    "signed_off_avidity = 0.5\n",
    "not_signed_off_avidity = 0.1\n",
    "bootstrap_runs = 10\n",
    "\n",
    "seniors = residents.training_level == \"senior\"\n",
    "interns = residents.training_level == \"intern\"\n",
    "\n",
    "R2s = 10\n",
    "R3s = 10\n",
    "R1s = 10"
   ]
  },
  {
   "cell_type": "code",
   "execution_count": null,
   "id": "6b07a8dc",
   "metadata": {},
   "outputs": [],
   "source": [
    "residents"
   ]
  },
  {
   "cell_type": "code",
   "execution_count": null,
   "id": "24e46e14",
   "metadata": {},
   "outputs": [],
   "source": [
    "outcome_log = list()\n",
    "bootstrap_log = list()\n",
    "\n",
    "for bootstrap_run in range(bootstrap_runs):\n",
    "\n",
    "    # reset residents to initial conditions\n",
    "    residents = original_resident_data.copy()\n",
    "\n",
    "    for procedures_today, day in zip(p.rvs(days), range(days)):\n",
    "\n",
    "        for procedure_opportunity in range(procedures_today):\n",
    "\n",
    "            selected_senior = residents[seniors].sample().name.values[0]\n",
    "            selected_intern = residents[interns].sample().name.values[0]\n",
    "\n",
    "            if (\n",
    "                residents.loc[\n",
    "                    residents.name.isin([selected_senior, selected_intern]),\n",
    "                    \"paracentesis_completed\",\n",
    "                ]\n",
    "                >= signoff_threshold\n",
    "            ).any():\n",
    "                avidity = signed_off_avidity\n",
    "            else:\n",
    "                avidity = not_signed_off_avidity\n",
    "\n",
    "            senior_prior_procedures = residents.loc[\n",
    "                residents.name == selected_senior, \"paracentesis_completed\"\n",
    "            ].values[0]\n",
    "            intern_prior_procedures = residents.loc[\n",
    "                residents.name == selected_intern, \"paracentesis_completed\"\n",
    "            ].values[0]\n",
    "\n",
    "            performed = None\n",
    "\n",
    "            if np.random.rand() <= avidity:\n",
    "\n",
    "                residents.loc[\n",
    "                    residents.name == selected_senior, \"paracentesis_completed\"\n",
    "                ] += 1\n",
    "\n",
    "                residents.loc[\n",
    "                    residents.name == selected_intern, \"paracentesis_completed\"\n",
    "                ] += 1\n",
    "                performed = True\n",
    "            else:\n",
    "                performed = False\n",
    "\n",
    "            today_outcome = Procedure_Outcome(\n",
    "                bootstrap_run=bootstrap_run,\n",
    "                day=day,\n",
    "                senior=selected_senior,\n",
    "                senior_prior_procedures=senior_prior_procedures,\n",
    "                intern=selected_intern,\n",
    "                intern_prior_procedures=intern_prior_procedures,\n",
    "                nth_procedure_opportunity_of_the_day=procedure_opportunity,\n",
    "                performed=performed,\n",
    "            )\n",
    "            outcome_log.append(today_outcome)\n",
    "    outcomes = pd.DataFrame(outcome_log)\n",
    "    bootstrap_log.append(outcomes)\n",
    "\n",
    "# TODO: good place to convert to polars for analytics if slow\n",
    "bootstrapped_outcomes = pd.concat(bootstrap_log)"
   ]
  },
  {
   "cell_type": "code",
   "execution_count": null,
   "id": "b7216ba7",
   "metadata": {},
   "outputs": [],
   "source": [
    "bootstrapped_outcomes"
   ]
  },
  {
   "cell_type": "code",
   "execution_count": null,
   "id": "c61554e7",
   "metadata": {},
   "outputs": [],
   "source": [
    "bootstrapped_outcomes.groupby(\"bootstrap_run\").performed.sum()"
   ]
  },
  {
   "cell_type": "code",
   "execution_count": null,
   "id": "67e2ad2f",
   "metadata": {},
   "outputs": [],
   "source": [
    "# average\n",
    "bootstrapped_outcomes.groupby(\"bootstrap_run\").performed.sum().sum() / bootstrap_runs"
   ]
  },
  {
   "cell_type": "code",
   "execution_count": null,
   "id": "d99b9805",
   "metadata": {},
   "outputs": [],
   "source": []
  },
  {
   "cell_type": "markdown",
   "id": "aa2452f8",
   "metadata": {},
   "source": [
    "### TODO rewrite analytics with groupbys"
   ]
  },
  {
   "cell_type": "code",
   "execution_count": null,
   "id": "23e88454",
   "metadata": {},
   "outputs": [],
   "source": [
    "outcomes.performed.sum()"
   ]
  },
  {
   "cell_type": "code",
   "execution_count": null,
   "id": "9cb6e75e",
   "metadata": {},
   "outputs": [],
   "source": [
    "# proportion of available procedures actually done\n",
    "outcomes.performed.sum() / len(outcomes)"
   ]
  },
  {
   "cell_type": "code",
   "execution_count": null,
   "id": "dfdeb85a",
   "metadata": {
    "editable": true,
    "slideshow": {
     "slide_type": ""
    },
    "tags": []
   },
   "outputs": [],
   "source": [
    "# seniors signed off this block\n",
    "outcomes.loc[\n",
    "    (outcomes.senior_prior_procedures == (signoff_threshold - 1)) & (outcomes.performed)\n",
    "]"
   ]
  },
  {
   "cell_type": "code",
   "execution_count": null,
   "id": "ef7b012b",
   "metadata": {},
   "outputs": [],
   "source": [
    "# interns signed off this block\n",
    "outcomes.loc[\n",
    "    (outcomes.intern_prior_procedures == (signoff_threshold - 1)) & (outcomes.performed)\n",
    "]"
   ]
  },
  {
   "cell_type": "code",
   "execution_count": null,
   "id": "e7f3ef47",
   "metadata": {},
   "outputs": [],
   "source": [
    "# residents signed off\n",
    "residents.loc[residents.paracentesis_completed >= signoff_threshold]"
   ]
  },
  {
   "cell_type": "code",
   "execution_count": null,
   "id": "768d6650",
   "metadata": {},
   "outputs": [],
   "source": [
    "# residents not signed off\n",
    "residents.loc[residents.paracentesis_completed < signoff_threshold]"
   ]
  }
 ],
 "metadata": {
  "kernelspec": {
   "display_name": "Python 3 (ipykernel)",
   "language": "python",
   "name": "python3"
  },
  "language_info": {
   "codemirror_mode": {
    "name": "ipython",
    "version": 3
   },
   "file_extension": ".py",
   "mimetype": "text/x-python",
   "name": "python",
   "nbconvert_exporter": "python",
   "pygments_lexer": "ipython3",
   "version": "3.12.4"
  }
 },
 "nbformat": 4,
 "nbformat_minor": 5
}
