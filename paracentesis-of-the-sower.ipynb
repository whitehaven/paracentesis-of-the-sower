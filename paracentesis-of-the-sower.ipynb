{
 "cells": [
  {
   "cell_type": "markdown",
   "id": "56679c2d-1a52-44d1-9237-f59882de3ee4",
   "metadata": {},
   "source": [
    "# sim plan"
   ]
  },
  {
   "cell_type": "markdown",
   "id": "a781c2bc-6fab-49b6-bf50-dfd686419296",
   "metadata": {},
   "source": [
    "* for every round\n",
    "  * procedure?\n",
    "        * if yes: \n",
    "            * offer to random resident (and choose intern who would have gotten it either way for log)\n",
    "                * if accepts: increment and log to both\n",
    "                * else: log miss only\n",
    "        * else\n",
    "            * log missed procedure0\n",
    "    * "
   ]
  },
  {
   "cell_type": "code",
   "execution_count": null,
   "id": "bad83fa4-fee5-48ff-81c8-83081b1e5f7f",
   "metadata": {
    "editable": true,
    "slideshow": {
     "slide_type": ""
    },
    "tags": []
   },
   "outputs": [],
   "source": [
    "from collections import namedtuple\n",
    "\n",
    "import matplotlib.pyplot as plt\n",
    "import numpy as np\n",
    "import pandas as pd\n",
    "from icecream import ic\n",
    "from statsmodels.distributions.discrete import poisson"
   ]
  },
  {
   "cell_type": "code",
   "execution_count": null,
   "id": "8641eaa6-1ea1-4d33-918c-70482f9cab39",
   "metadata": {},
   "outputs": [],
   "source": [
    "# custom datatype for procedure offer logs\n",
    "Procedure_Outcome = namedtuple(\n",
    "    \"Procedure_Outcome\",\n",
    "    [\n",
    "        \"bootstrap_run\",\n",
    "        \"day\",\n",
    "        \"senior\",\n",
    "        \"senior_prior_procedures\",\n",
    "        \"intern\",\n",
    "        \"intern_prior_procedures\",\n",
    "        \"nth_procedure_opportunity_of_the_day\",\n",
    "        \"performed\",\n",
    "    ],\n",
    ")"
   ]
  },
  {
   "cell_type": "code",
   "execution_count": null,
   "id": "0bbb35f3-bfe0-4e0c-92ff-80f29cbc7736",
   "metadata": {},
   "outputs": [],
   "source": [
    "residents = pd.read_excel(\"residents.xlsx\")\n",
    "residents"
   ]
  },
  {
   "cell_type": "markdown",
   "id": "a5c2b299-64df-4f54-8150-42fca29554ab",
   "metadata": {},
   "source": [
    "### TODO: generate different starting conditions programatically"
   ]
  },
  {
   "cell_type": "code",
   "execution_count": null,
   "id": "301e76af-0b43-4a9b-8c10-1589c81045e9",
   "metadata": {},
   "outputs": [],
   "source": [
    "R2s = 10\n",
    "R3s = 10\n",
    "R1s = 10\n",
    "\n",
    "expected\n",
    "\n",
    "senior_paracentesis_completed_gen\n",
    "intern_paracentesis_completed_gen"
   ]
  },
  {
   "cell_type": "code",
   "execution_count": null,
   "id": "aaae6870-0e80-48f2-9fc1-9f150de2a6c1",
   "metadata": {},
   "outputs": [],
   "source": []
  },
  {
   "cell_type": "code",
   "execution_count": null,
   "id": "a7036ab9-fe8f-42ba-acb8-650165bec590",
   "metadata": {},
   "outputs": [],
   "source": [
    "seniors = residents.training_level == \"senior\"\n",
    "interns = residents.training_level == \"intern\""
   ]
  },
  {
   "cell_type": "code",
   "execution_count": null,
   "id": "e138df0f-76c5-403f-b94d-05f82b767f19",
   "metadata": {},
   "outputs": [],
   "source": [
    "poisson_lambda = 1 / 7\n",
    "p = poisson(poisson_lambda)\n",
    "plt.bar(np.arange(0, 10), p.pmf(np.arange(0, 10)))"
   ]
  },
  {
   "cell_type": "markdown",
   "id": "5c371dbb-4335-4c7e-8e8d-fcded6cd7aa9",
   "metadata": {},
   "source": [
    "for example, a month's worth with $\\lambda$ = 1/14, which is a Q2wk average divided out"
   ]
  },
  {
   "cell_type": "code",
   "execution_count": null,
   "id": "091bbf4f-ee0e-4fff-ae35-90a2e75957f0",
   "metadata": {},
   "outputs": [],
   "source": [
    "random_year = poisson_dist.rvs(365)\n",
    "random_year"
   ]
  },
  {
   "cell_type": "code",
   "execution_count": null,
   "id": "bf75f26b-a15d-4df5-8ad1-2085e0cd1517",
   "metadata": {},
   "outputs": [],
   "source": [
    "random_year.sum() / 365 - poisson_lambda"
   ]
  },
  {
   "cell_type": "markdown",
   "id": "5a42f05c-0875-42fa-b458-f5cd3db3e2a0",
   "metadata": {},
   "source": [
    "pretty close, and gets the randomness right"
   ]
  },
  {
   "cell_type": "markdown",
   "id": "a088f9a5-e992-411d-8f55-1f226e1db0e9",
   "metadata": {},
   "source": [
    "### TODO: bootstrapping"
   ]
  },
  {
   "cell_type": "code",
   "execution_count": null,
   "id": "f2c5f403-d71d-482d-8b67-b1fd0458a255",
   "metadata": {},
   "outputs": [],
   "source": [
    "days = 365 * 3\n",
    "signoff_threshold = 5\n",
    "signed_off_avidity = 0.5\n",
    "not_signed_off_avidity = 0.1\n",
    "bootstrap_runs = 10"
   ]
  },
  {
   "cell_type": "code",
   "execution_count": null,
   "id": "42a5a4e3-4150-4e2f-9b70-543aaae287a8",
   "metadata": {},
   "outputs": [],
   "source": [
    "outcome_log = list()\n",
    "bootstrap_log = list()\n",
    "\n",
    "for bootstrap_run in range(bootstrap_runs):\n",
    "    \n",
    "    for procedures_today, day in zip(p.rvs(days), range(days)):\n",
    "        # TODO: determine number offered (poisson)\n",
    "    \n",
    "        for procedure_opportunity in range(procedures_today):\n",
    "    \n",
    "            selected_senior = residents[seniors].sample().name.values[0]\n",
    "            selected_intern = residents[interns].sample().name.values[0]\n",
    "    \n",
    "            if (\n",
    "                residents.loc[\n",
    "                    residents.name.isin([selected_senior, selected_intern]),\n",
    "                    \"paracentesis_completed\",\n",
    "                ]\n",
    "                >= signoff_threshold\n",
    "            ).any():\n",
    "                avidity = signed_off_avidity\n",
    "            else:\n",
    "                avidity = not_signed_off_avidity\n",
    "    \n",
    "            performed = None\n",
    "    \n",
    "            senior_prior_procedures = residents.loc[\n",
    "                residents.name == selected_senior, \"paracentesis_completed\"\n",
    "            ].values[0]\n",
    "            intern_prior_procedures = residents.loc[\n",
    "                residents.name == selected_intern, \"paracentesis_completed\"\n",
    "            ].values[0]\n",
    "    \n",
    "            if np.random.rand() <= avidity:\n",
    "    \n",
    "                residents.loc[\n",
    "                    residents.name == selected_senior, \"paracentesis_completed\"\n",
    "                ] += 1\n",
    "    \n",
    "                residents.loc[\n",
    "                    residents.name == selected_intern, \"paracentesis_completed\"\n",
    "                ] += 1\n",
    "                performed = True\n",
    "            else:\n",
    "                performed = False\n",
    "    \n",
    "            today_outcome = Procedure_Outcome(\n",
    "                bootstrap_run=bootstrap_run,\n",
    "                day=day,\n",
    "                senior=selected_senior,\n",
    "                senior_prior_procedures=senior_prior_procedures,\n",
    "                intern=selected_intern,\n",
    "                intern_prior_procedures=intern_prior_procedures,\n",
    "                nth_procedure_opportunity_of_the_day=procedure_opportunity,\n",
    "                performed=performed,\n",
    "            )\n",
    "            outcome_log.append(today_outcome)\n",
    "    outcomes = pd.DataFrame(outcome_log)\n",
    "    bootstrap_log.append(outcomes)\n",
    "bootstrapped_outcomes = pd.concat(bootstrap_log)\n",
    "bootstrapped_outcomes"
   ]
  },
  {
   "cell_type": "markdown",
   "id": "f66fe73b-c3e1-4b3a-9a8c-85290c6011ef",
   "metadata": {},
   "source": [
    "### TODO rewrite analytics with groupbys"
   ]
  },
  {
   "cell_type": "code",
   "execution_count": null,
   "id": "def1edc6-1f66-40b3-9e45-2836aea18964",
   "metadata": {},
   "outputs": [],
   "source": [
    "outcomes.performed.sum()"
   ]
  },
  {
   "cell_type": "code",
   "execution_count": null,
   "id": "194281c5-1dea-461a-9d5a-4fb5fb849b14",
   "metadata": {},
   "outputs": [],
   "source": [
    "# proportion of available procedures actually done\n",
    "outcomes.performed.sum() / len(outcomes)"
   ]
  },
  {
   "cell_type": "code",
   "execution_count": null,
   "id": "2c4fe6e1-487b-4d34-8ed2-509d191b324b",
   "metadata": {
    "editable": true,
    "slideshow": {
     "slide_type": ""
    },
    "tags": []
   },
   "outputs": [],
   "source": [
    "# seniors signed off this block\n",
    "outcomes.loc[\n",
    "    (outcomes.senior_prior_procedures == (signoff_threshold - 1)) & (outcomes.performed)\n",
    "]"
   ]
  },
  {
   "cell_type": "code",
   "execution_count": null,
   "id": "4fb4473c-a071-44f1-90a5-e3b71754ed58",
   "metadata": {},
   "outputs": [],
   "source": [
    "# interns signed off this block\n",
    "outcomes.loc[\n",
    "    (outcomes.intern_prior_procedures == (signoff_threshold - 1)) & (outcomes.performed)\n",
    "]"
   ]
  },
  {
   "cell_type": "code",
   "execution_count": null,
   "id": "114b36f0-ed17-4c85-a3e8-27d8d5e3dd1a",
   "metadata": {},
   "outputs": [],
   "source": [
    "# residents signed off\n",
    "residents.loc[residents.paracentesis_completed >= signoff_threshold]"
   ]
  },
  {
   "cell_type": "code",
   "execution_count": null,
   "id": "ca6f17da-cd41-4c91-b8e8-0264907ab5c0",
   "metadata": {},
   "outputs": [],
   "source": [
    "# residents not signed off\n",
    "residents.loc[residents.paracentesis_completed < signoff_threshold]"
   ]
  },
  {
   "cell_type": "code",
   "execution_count": null,
   "id": "8db63329-7d0d-4927-8ad3-8bffe22ddf44",
   "metadata": {},
   "outputs": [],
   "source": []
  },
  {
   "cell_type": "code",
   "execution_count": null,
   "id": "f42b7291-4816-4f30-8b8d-3b12263a99d7",
   "metadata": {},
   "outputs": [],
   "source": []
  }
 ],
 "metadata": {
  "kernelspec": {
   "display_name": "Python 3 (ipykernel)",
   "language": "python",
   "name": "python3"
  },
  "language_info": {
   "codemirror_mode": {
    "name": "ipython",
    "version": 3
   },
   "file_extension": ".py",
   "mimetype": "text/x-python",
   "name": "python",
   "nbconvert_exporter": "python",
   "pygments_lexer": "ipython3",
   "version": "3.12.4"
  }
 },
 "nbformat": 4,
 "nbformat_minor": 5
}
